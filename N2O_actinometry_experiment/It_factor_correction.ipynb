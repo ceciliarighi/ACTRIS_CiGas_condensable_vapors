{
 "cells": [
  {
   "cell_type": "markdown",
   "id": "0b466c44-aed6-41c4-be36-f212e30d6523",
   "metadata": {},
   "source": [
    "# Geometry correction K\n",
    "@ Cecilia Righi"
   ]
  },
  {
   "cell_type": "code",
   "execution_count": 1,
   "id": "c69f9889-12bb-46c4-897a-3541cdd4fda8",
   "metadata": {},
   "outputs": [
    {
     "name": "stdout",
     "output_type": "stream",
     "text": [
      "K values: ['0.94', '0.90', '0.90', '0.88', '0.85', '0.83', '0.81', '0.79', '0.77', '0.75', '0.74']\n"
     ]
    }
   ],
   "source": [
    "import numpy as np\n",
    "import scipy.integrate as integrate\n",
    "\n",
    "## user interface\n",
    "N2O_ppb_values = [2.61E+07,4.63E+07,4.76E+07,6.15E+07,7.49E+07,8.80E+07,1.01E+08,1.13E+08,1.25E+08,1.37E+08,1.48E+08]  # ppb\n",
    "T_celsius = 25  # °C\n",
    "R = 0.78  # cm, inner radius\n",
    "\n",
    "## constants and parameters \n",
    "sigma_N2O = 1.43e-19  # cm², absorption cross section\n",
    "P = 96000  # Pa \n",
    "k_B = 1.3806488e-23  # J/K, Boltzmann constant\n",
    "T = T_celsius + 273.15  # K\n",
    "\n",
    "## compute K\n",
    "def integrand(phi, r, N2O_conc):\n",
    "    a = np.sqrt(R**2 - (r * np.sin(phi))**2)\n",
    "    b = r * np.cos(phi)\n",
    "    exponent = -sigma_N2O * N2O_conc * (a + b)\n",
    "    return np.exp(exponent) * r\n",
    "\n",
    "def compute_K(N2O_ppb):\n",
    "\n",
    "    N2O_conc = (P / (k_B * T)) * N2O_ppb * 1e-15  # molecules/cm³ \n",
    "\n",
    "    numerator, _ = integrate.dblquad(lambda phi, r: integrand(phi, r, N2O_conc),\n",
    "                                     0, R,  # r limits\n",
    "                                     lambda r: 0, lambda r: np.pi)  # phi limits\n",
    "    denominator = np.pi * R**2\n",
    "    return (2 * numerator) / denominator\n",
    "\n",
    "K_values = [compute_K(ppb) for ppb in N2O_ppb_values]\n",
    "print(\"K values:\", [f\"{K:.2f}\" for K in K_values])"
   ]
  }
 ],
 "metadata": {
  "kernelspec": {
   "display_name": "Python 3 (ipykernel)",
   "language": "python",
   "name": "python3"
  },
  "language_info": {
   "codemirror_mode": {
    "name": "ipython",
    "version": 3
   },
   "file_extension": ".py",
   "mimetype": "text/x-python",
   "name": "python",
   "nbconvert_exporter": "python",
   "pygments_lexer": "ipython3",
   "version": "3.11.7"
  }
 },
 "nbformat": 4,
 "nbformat_minor": 5
}
