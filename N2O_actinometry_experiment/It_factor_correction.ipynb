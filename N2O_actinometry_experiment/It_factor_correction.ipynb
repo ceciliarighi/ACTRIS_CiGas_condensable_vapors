{
 "cells": [
  {
   "cell_type": "markdown",
   "id": "0b466c44-aed6-41c4-be36-f212e30d6523",
   "metadata": {},
   "source": [
    "# Geometry correction K\n",
    "@ Cecilia Righi"
   ]
  },
  {
   "cell_type": "code",
   "execution_count": 4,
   "id": "c69f9889-12bb-46c4-897a-3541cdd4fda8",
   "metadata": {},
   "outputs": [
    {
     "name": "stdout",
     "output_type": "stream",
     "text": [
      "K = ['0.7981', '0.7505', '0.7097', '0.6745', '0.6443', '0.6182', '0.5938', '0.5727', '0.5537', '0.5374']\n"
     ]
    }
   ],
   "source": [
    "import numpy as np\n",
    "import scipy.integrate as integrate\n",
    "\n",
    "##\n",
    "# --N2O_ppb: N2O concentrations introduced (ppb)\n",
    "# --T: average of N2O flow and N2 flow temperatures (°C)\n",
    "# --R: inner radius of quartz tube (cm)\n",
    "\n",
    "\n",
    "## user interface\n",
    "N2O_ppb = [1.07E+08,1.38E+08,1.67E+08,1.94E+08,2.19E+08,2.42E+08,2.65E+08,2.86E+08,3.06E+08,3.24E+08]  # ppb, ADJUST\n",
    "T = 25  # °C, ADJUST\n",
    "R = 0.78  # cm, ADJUST\n",
    "\n",
    "\n",
    "## compute K\n",
    "T = T + 273.15  # K\n",
    "P = 96000  # Pa \n",
    "csN2O = 1.43e-19  # cm², absorption cross section\n",
    "kB = 1.3806488e-23  # J K-1, Boltzmann constant\n",
    "\n",
    "def integrand(phi, r, N2O_conc):\n",
    "    a = np.sqrt(R**2 - (r * np.sin(phi))**2)\n",
    "    b = r * np.cos(phi)\n",
    "    exponent = -csN2O * N2O_conc * (a + b)\n",
    "    return np.exp(exponent) * r\n",
    "\n",
    "def compute_K(N2O_ppb):\n",
    "    N2O_conc = (P / (kB * T)) * N2O_ppb * 1e-15  # molecules/cm³ \n",
    "    numerator, _ = integrate.dblquad(lambda phi, r: integrand(phi, r, N2O_conc),\n",
    "                                     0, R,  # r limits\n",
    "                                     lambda r: 0, lambda r: np.pi)  # phi limits\n",
    "    denominator = np.pi * R**2\n",
    "    return (2 * numerator) / denominator\n",
    "\n",
    "K_values = [compute_K(ppb) for ppb in N2O_ppb]\n",
    "\n",
    "print(\"K =\", [f\"{K:.4f}\" for K in K_values])"
   ]
  }
 ],
 "metadata": {
  "kernelspec": {
   "display_name": "Python 3 (ipykernel)",
   "language": "python",
   "name": "python3"
  },
  "language_info": {
   "codemirror_mode": {
    "name": "ipython",
    "version": 3
   },
   "file_extension": ".py",
   "mimetype": "text/x-python",
   "name": "python",
   "nbconvert_exporter": "python",
   "pygments_lexer": "ipython3",
   "version": "3.11.7"
  }
 },
 "nbformat": 4,
 "nbformat_minor": 5
}
