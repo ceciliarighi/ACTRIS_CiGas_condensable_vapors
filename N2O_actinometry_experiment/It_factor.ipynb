{
 "cells": [
  {
   "cell_type": "markdown",
   "id": "c0a142fd-a4ca-464f-b5a8-aa8b7cdbc351",
   "metadata": {},
   "source": [
    "# N2O actinometry experiment | It-factor computation"
   ]
  },
  {
   "cell_type": "code",
   "execution_count": 4,
   "id": "f9b55460",
   "metadata": {},
   "outputs": [
    {
     "name": "stdout",
     "output_type": "stream",
     "text": [
      "It_non_corr_mean 5.23E+11\n",
      "It_non_corr_median 4.75E+11\n",
      "\n",
      "It_non_corr ['8.70E+11', '6.81E+11', '6.02E+11', '5.42E+11', '4.90E+11', '4.59E+11', '4.32E+11', '4.01E+11', '3.83E+11', '3.65E+11']\n"
     ]
    }
   ],
   "source": [
    "import pandas as pd\n",
    "import datetime as dt\n",
    "import numpy as np\n",
    "import matplotlib.pyplot as plt\n",
    "from datetime import timedelta\n",
    "\n",
    "## user interface\n",
    "N2O_flow = np.array([804,1034,1250,1452,1641,1818,1985,2143,2292,2432]) # sccm\n",
    "N2_flow = np.array([6696,6466,6250,6048,5859,5682,5515,5357,5208,5068]) # sccm\n",
    "NO_conc = np.array([5.300,6.413,7.800,8.983,9.893,10.919,11.781,12.319,13.044,13.566]) # ppb\n",
    "\n",
    "Temp = 25 # °C\n",
    "\n",
    "flow_inlet = 7500  # inlet flow CI-API-TOF, sccm\n",
    "\n",
    "R = 0.78  #0.78 cm, 3/4 inch inner radius\n",
    "\n",
    "\n",
    "## parameters\n",
    "T = Temp + 273.15  # K\n",
    "K6 = 2.0 * 1e-11 * np.exp(130 / T)  # cm3 mol-1 s-1\n",
    "K7 = 7.6 * 1e-11  # cm3 mol-1 s-1\n",
    "K8 = 4.3 * 1e-11  # cm3 mol-1 s-1\n",
    "K9 = 6.0 * 1e-12  # cm3 mol-1 s-1\n",
    "\n",
    "phi_N2O = 1  # quantum yield\n",
    "sigma_N2O = 1.43 * 1e-19  # absorption cross section, cm2\n",
    "\n",
    "Total = N2_flow + N2O_flow # sccm\n",
    "NOx = NO_conc  # ppb\n",
    "\n",
    "mixing_N2 = N2_flow / (N2O_flow + N2_flow)\n",
    "mixing_N2O = N2O_flow / (N2O_flow + N2_flow)\n",
    "\n",
    "## It-product calculation\n",
    "It_N2O = (K6 * mixing_N2 + (K7 + K8 + K9) * mixing_N2O) * NOx * 1e-9 / (2 * K7 * sigma_N2O * phi_N2O * mixing_N2O ** 2);\n",
    "It = It_N2O * (N2_flow + N2O_flow) / flow_inlet\n",
    "\n",
    "print('It_non_corr_mean', \"{:.2E}\".format(np.mean(It)))\n",
    "print('It_non_corr_median', \"{:.2E}\".format(np.median(It)))\n",
    "print('\\nIt_non_corr', [f\"{val:.2E}\" for val in It])"
   ]
  },
  {
   "cell_type": "code",
   "execution_count": 5,
   "id": "44df82c0",
   "metadata": {},
   "outputs": [
    {
     "name": "stdout",
     "output_type": "stream",
     "text": [
      "K values: ['0.80', '0.75', '0.71', '0.67', '0.64', '0.62', '0.59', '0.57', '0.55', '0.54']\n"
     ]
    }
   ],
   "source": [
    "## geometry correction factor\n",
    "\n",
    "N2O_conc = 96060. / 1.38e-23 / (Temp + 273.15) / 1e6 * mixing_N2O\n",
    "m = len(mixing_N2O)\n",
    "\n",
    "from scipy import integrate\n",
    "\n",
    "fx = []\n",
    "for i in range(m):\n",
    "    f = lambda y, x: np.exp(-sigma_N2O * N2O_conc[i] * (np.sqrt(R ** 2 - y ** 2) + x))\n",
    "    fx1 = integrate.dblquad(f, -R, R, lambda x: -np.sqrt(R ** 2 - x ** 2), lambda x: np.sqrt(R ** 2 - x ** 2))\n",
    "    fx.append(fx1[0])\n",
    "\n",
    "q = np.transpose(fx)\n",
    "\n",
    "K = q / R ** 2 / np.pi\n",
    "\n",
    "print(\"K values:\", [f\"{val:.2f}\" for val in K])"
   ]
  },
  {
   "cell_type": "code",
   "execution_count": 7,
   "id": "ceccb29e",
   "metadata": {},
   "outputs": [
    {
     "name": "stdout",
     "output_type": "stream",
     "text": [
      "It_final_mean 7.95E+11\n",
      "It_final_median 7.52E+11\n",
      "\n",
      "It_corr ['1.09E+12', '9.08E+11', '8.48E+11', '8.03E+11', '7.60E+11', '7.44E+11', '7.27E+11', '7.01E+11', '6.93E+11', '6.79E+11']\n",
      "\n",
      "It_non_corr ['8.70E+11', '6.81E+11', '6.02E+11', '5.42E+11', '4.90E+11', '4.59E+11', '4.32E+11', '4.01E+11', '3.83E+11', '3.65E+11']\n"
     ]
    }
   ],
   "source": [
    "## corrected It-product calculation\n",
    "It_corr = It / K\n",
    "\n",
    "It_final_mean = np.mean(It_corr)\n",
    "It_final_median = np.median(It_corr)\n",
    "It_corr_low = min(It_corr)\n",
    "It_corr_high = max(It_corr)\n",
    "\n",
    "print('It_final_mean', \"{:.2E}\".format(It_final_mean))\n",
    "print('It_final_median', \"{:.2E}\".format(It_final_median))\n",
    "print('\\nIt_corr', [f\"{val:.2E}\" for val in It_corr])\n",
    "print('\\nIt_non_corr', [f\"{val:.2E}\" for val in It])"
   ]
  }
 ],
 "metadata": {
  "kernelspec": {
   "display_name": "Python 3 (ipykernel)",
   "language": "python",
   "name": "python3"
  },
  "language_info": {
   "codemirror_mode": {
    "name": "ipython",
    "version": 3
   },
   "file_extension": ".py",
   "mimetype": "text/x-python",
   "name": "python",
   "nbconvert_exporter": "python",
   "pygments_lexer": "ipython3",
   "version": "3.11.7"
  }
 },
 "nbformat": 4,
 "nbformat_minor": 5
}
