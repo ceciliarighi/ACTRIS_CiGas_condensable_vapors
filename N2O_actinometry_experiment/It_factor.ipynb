{
 "cells": [
  {
   "cell_type": "markdown",
   "id": "c0a142fd-a4ca-464f-b5a8-aa8b7cdbc351",
   "metadata": {},
   "source": [
    "# N2O actinometry experiment | It-factor computation"
   ]
  },
  {
   "cell_type": "code",
   "execution_count": 10,
   "id": "f9b55460",
   "metadata": {},
   "outputs": [
    {
     "name": "stdout",
     "output_type": "stream",
     "text": [
      "It ['5.13E+11', '4.94E+11', '4.44E+11', '4.07E+11', '3.83E+11', '3.60E+11', '3.37E+11', '3.20E+11', '3.06E+11', '2.89E+11']\n",
      "\n",
      "It_mean = 3.8522E+11\n",
      "It_median = 3.7117E+11\n"
     ]
    }
   ],
   "source": [
    "import pandas as pd\n",
    "import datetime as dt\n",
    "import numpy as np\n",
    "import matplotlib.pyplot as plt\n",
    "from datetime import timedelta\n",
    "from scipy import integrate\n",
    "\n",
    "##\n",
    "# --N2O_flow: set N2O flow rate (sccm)\n",
    "# --N2_flow: set N2 flow rate (sccm)\n",
    "# --NOx_ppb: NOₓ concentration detected by the NOₓ monitor (ppb)\n",
    "# --T: average of N2O flow and N2 flow temperatures (°C)\n",
    "# --QtotNOx: inlet flow rate used in the actinometry experiment (lpm)\n",
    "# --Qinstrument: inlet flow rate used in the sulfuric acid calibration experiment (lpm)\n",
    "# --R: inner radius of quartz tube (cm)\n",
    "# --monitor_bg: background NOₓ concentration (ppb) detected by the NOₓ monitor when N2O flow = 0 and Hg-lamp is on\n",
    "# --bottle_bg: NOₓ concentration (ppb) detected by the NOₓ monitor repeating the experiment with Hg-lamp off\n",
    "\n",
    "\n",
    "## user interface\n",
    "N2O_flow = np.array([804,1034,1250,1452,1641,1818,1985,2143,2292,2432]) # sccm, ADJUST\n",
    "N2_flow = np.array([6696,6466,6250,6048,5859,5682,5515,5357,5208,5068]) # sccm, ADJUST\n",
    "NOx_ppb = np.array([4.325,5.650,6.749,7.642,8.609,9.410,10.060,10.657,11.241,11.581]) # ppb, ADJUST\n",
    "\n",
    "T = 25 # °C, ADJUST\n",
    "\n",
    "QtotNOx=7.5 # lpm, ADJUST\n",
    "Qinstrument = 7.5  # lpm, ADJUST\n",
    "\n",
    "R = 0.78  # 0.78 cm, ADJUST\n",
    "\n",
    "monitor_bg=0.8; # ppb, ADJUST\n",
    "bottle_bg=[0.4,0.2,0.2,0.1,0.08,0.06,0.06,0.04,0.04,0.02];  # ppb, ADJUST\n",
    "\n",
    "\n",
    "## It-product non-corrected\n",
    "T = T + 273.15  # K\n",
    "p=96000 # Pa\n",
    "kB=1.3806488e-23 # J K-1, Boltzmann constant\n",
    "\n",
    "K6 = 2e-11 * np.exp(130 / T)  # cm3 mol-1 s-1\n",
    "K7 = 7.6e-11  # cm3 mol-1 s-1\n",
    "K8 = 4.3e-11  # cm3 mol-1 s-1\n",
    "K9 = 6.0e-12  # cm3 mol-1 s-1\n",
    "\n",
    "qyN2O = 1  # quantum yield\n",
    "csN2O = 1.43e-19  # absorption cross section, cm2\n",
    "\n",
    "M=p/(kB*T)/1e6\n",
    "N2O_ratio = N2O_flow / (N2O_flow + N2_flow)\n",
    "N2_ratio = N2_flow / (N2O_flow + N2_flow)\n",
    "N2O=N2O_ratio * M; # cm-3\n",
    "N2=N2_ratio * M; # cm-3\n",
    "NOx_corrected_ppb = NOx_ppb - monitor_bg - bottle_bg # ppb\n",
    "NOx = NOx_corrected_ppb*1e-9*M; # cm-3\n",
    "\n",
    "ItNOx = (K6 * N2 + (K7 + K8 + K9) * N2O) * NOx / (2 * K7 * csN2O * qyN2O * (N2O ** 2)); # photons cm-2\n",
    "It = ItNOx * (QtotNOx / Qinstrument) # photons cm-2\n",
    "\n",
    "print('It', [f\"{val:.2E}\" for val in It])\n",
    "print('\\nIt_mean =', \"{:.4E}\".format(np.mean(It)))\n",
    "print('It_median =', \"{:.4E}\".format(np.median(It)))"
   ]
  },
  {
   "cell_type": "code",
   "execution_count": 11,
   "id": "44df82c0",
   "metadata": {},
   "outputs": [
    {
     "name": "stdout",
     "output_type": "stream",
     "text": [
      "K = ['0.7977', '0.7507', '0.7101', '0.6750', '0.6445', '0.6178', '0.5941', '0.5729', '0.5540', '0.5371']\n",
      "\n",
      "It_corrected ['6.4323E+11', '6.5820E+11', '6.2496E+11', '6.0245E+11', '5.9364E+11', '5.8226E+11', '5.6781E+11', '5.5818E+11', '5.5192E+11', '5.3851E+11']\n",
      "\n",
      "It_corrected_mean = 5.9212E+11\n",
      "It_corrected_median = 5.8795E+11\n"
     ]
    }
   ],
   "source": [
    "## It-product corrected\n",
    "\n",
    "m = len(N2O_ratio)\n",
    "fx = []\n",
    "for i in range(m):\n",
    "    f = lambda y, x: np.exp(-csN2O * N2O[i] * (np.sqrt(R ** 2 - y ** 2) + x))\n",
    "    fx1 = integrate.dblquad(f, -R, R, lambda x: -np.sqrt(R ** 2 - x ** 2), lambda x: np.sqrt(R ** 2 - x ** 2))\n",
    "    fx.append(fx1[0])\n",
    "q = np.transpose(fx)\n",
    "K = q / R ** 2 / np.pi\n",
    "\n",
    "ItCorrected = It / K\n",
    "\n",
    "It_corrected_mean = np.mean(ItCorrected)\n",
    "It_corrected_median = np.median(ItCorrected)\n",
    "\n",
    "print(\"K =\", [f\"{val:.4f}\" for val in K])\n",
    "print('\\nIt_corrected', [f\"{val:.4E}\" for val in ItCorrected])\n",
    "print('\\nIt_corrected_mean =', \"{:.4E}\".format(It_corrected_mean))\n",
    "print('It_corrected_median =', \"{:.4E}\".format(It_corrected_median))"
   ]
  }
 ],
 "metadata": {
  "kernelspec": {
   "display_name": "Python 3 (ipykernel)",
   "language": "python",
   "name": "python3"
  },
  "language_info": {
   "codemirror_mode": {
    "name": "ipython",
    "version": 3
   },
   "file_extension": ".py",
   "mimetype": "text/x-python",
   "name": "python",
   "nbconvert_exporter": "python",
   "pygments_lexer": "ipython3",
   "version": "3.11.7"
  }
 },
 "nbformat": 4,
 "nbformat_minor": 5
}
